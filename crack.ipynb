{
 "cells": [
  {
   "cell_type": "markdown",
   "id": "e95d8289",
   "metadata": {},
   "source": [
    "# Image Classification"
   ]
  },
  {
   "cell_type": "code",
   "execution_count": null,
   "id": "12e0ec14",
   "metadata": {},
   "outputs": [],
   "source": [
    "Dataset Source:https://www.kaggle.com/datasets/dineshpiyasamara/geometric-shapes-dataset\n",
    "About the Dataset:\n",
    "    size: 27.5MB\n",
    "        subfolder: Circle, Triangle, Square (with 10000 images in each)"
   ]
  },
  {
   "cell_type": "markdown",
   "id": "71224db3",
   "metadata": {},
   "source": [
    "### Importing necessary libraries"
   ]
  },
  {
   "cell_type": "code",
   "execution_count": 1,
   "id": "94724f96",
   "metadata": {},
   "outputs": [
    {
     "name": "stdout",
     "output_type": "stream",
     "text": [
      "Using TensorFlow backend\n"
     ]
    }
   ],
   "source": [
    "import os\n",
    "import random\n",
    "import numpy as np\n",
    "import pandas as pd\n",
    "import split_folder\n",
    "import pathlib\n",
    "\n",
    "import seaborn as sns\n",
    "from  matplotlib import pyplot as plt\n",
    "from matplotlib import image as img \n",
    "\n",
    "import tensorflow\n",
    "from tensorflow import keras\n",
    "import keras_tuner\n"
   ]
  },
  {
   "cell_type": "markdown",
   "id": "e7f7ca5c",
   "metadata": {},
   "source": [
    "### Assigning variable to subfolders"
   ]
  },
  {
   "cell_type": "code",
   "execution_count": 2,
   "id": "b4cc13f6",
   "metadata": {},
   "outputs": [],
   "source": [
    "image_directory = 'C:/Users/Hasan/Desktop/Classification/geometric shapes dataset/Circle'\n",
    "image_directory2 = 'C:/Users/Hasan/Desktop/Classification/geometric shapes dataset/Triangle'\n",
    "image_directory3 = 'C:/Users/Hasan/Desktop/Classification/geometric shapes dataset/Square'"
   ]
  },
  {
   "cell_type": "code",
   "execution_count": null,
   "id": "be4ffc29",
   "metadata": {},
   "outputs": [],
   "source": [
    "### "
   ]
  },
  {
   "cell_type": "code",
   "execution_count": 3,
   "id": "73f6dd03",
   "metadata": {},
   "outputs": [],
   "source": [
    "image_file = [os.path.join(image_directory, filename) for filename in os.listdir(image_directory)]\n",
    "image_file2 = [os.path.join(image_directory2, filename) for filename in os.listdir(image_directory2)]\n",
    "image_file3 = [os.path.join(image_directory3, filename) for filename in os.listdir(image_directory3)]"
   ]
  },
  {
   "cell_type": "markdown",
   "id": "28a6e36f",
   "metadata": {},
   "source": [
    "### Ploting few samples from image_files"
   ]
  },
  {
   "cell_type": "code",
   "execution_count": null,
   "id": "49bfc120",
   "metadata": {},
   "outputs": [],
   "source": [
    "sample_image = random.sample(image_file , 3)\n",
    "sample_image2 = random.sample(image_file2, 3)\n",
    "sample_image3 = random.sample(image_file3, 3)\n",
    "\n",
    "fig,axes = plt.subplots(3,3, figsize =(20,14) )\n",
    "\n",
    "for i , image_path in enumerate(sample_image):\n",
    "    ax = axes[0,i]\n",
    "    image = img.imread(image_path)\n",
    "    ax.imshow(image)\n",
    "    ax.axis('off')\n",
    "\n",
    "for i , image_path in enumerate(sample_image2):\n",
    "    ax = axes[1,i]\n",
    "    image = img.imread(image_path)\n",
    "    ax.imshow(image)\n",
    "    ax.axis('off')\n",
    "\n",
    "for i , image_path in enumerate(sample_image3):\n",
    "    ax = axes[2,i]\n",
    "    image = img.imread(image_path)\n",
    "    ax.imshow(image)\n",
    "    ax.axis('off')    \n",
    "    \n",
    "plt.show()"
   ]
  },
  {
   "cell_type": "markdown",
   "id": "6d03426d",
   "metadata": {},
   "source": [
    "### Data spliting"
   ]
  },
  {
   "cell_type": "code",
   "execution_count": 4,
   "id": "537833ea",
   "metadata": {},
   "outputs": [
    {
     "name": "stdout",
     "output_type": "stream",
     "text": [
      "\n",
      "Copying (7000) of .. train/Circle\n",
      "\n"
     ]
    },
    {
     "data": {
      "application/vnd.jupyter.widget-view+json": {
       "model_id": "6f3a309ab5a24e74b90f2818ca7aa2c4",
       "version_major": 2,
       "version_minor": 0
      },
      "text/plain": [
       "  0%|          | 0/7000 [00:00<?, ?it/s]"
      ]
     },
     "metadata": {},
     "output_type": "display_data"
    },
    {
     "name": "stdout",
     "output_type": "stream",
     "text": [
      "\n",
      "Copying (1500) of .. val/Circle\n",
      "\n"
     ]
    },
    {
     "data": {
      "application/vnd.jupyter.widget-view+json": {
       "model_id": "6dceba586fa241209e284c94d3ab97db",
       "version_major": 2,
       "version_minor": 0
      },
      "text/plain": [
       "  0%|          | 0/1500 [00:00<?, ?it/s]"
      ]
     },
     "metadata": {},
     "output_type": "display_data"
    },
    {
     "name": "stdout",
     "output_type": "stream",
     "text": [
      "\n",
      "Copying (1500) of .. test/Circle\n",
      "\n"
     ]
    },
    {
     "data": {
      "application/vnd.jupyter.widget-view+json": {
       "model_id": "71c5682be168486b9e0cec2b010af65d",
       "version_major": 2,
       "version_minor": 0
      },
      "text/plain": [
       "  0%|          | 0/1500 [00:00<?, ?it/s]"
      ]
     },
     "metadata": {},
     "output_type": "display_data"
    },
    {
     "name": "stdout",
     "output_type": "stream",
     "text": [
      "\n",
      "Copying (7000) of .. train/Square\n",
      "\n"
     ]
    },
    {
     "data": {
      "application/vnd.jupyter.widget-view+json": {
       "model_id": "3eb91117de6a4281a207d5168e11188e",
       "version_major": 2,
       "version_minor": 0
      },
      "text/plain": [
       "  0%|          | 0/7000 [00:00<?, ?it/s]"
      ]
     },
     "metadata": {},
     "output_type": "display_data"
    },
    {
     "name": "stdout",
     "output_type": "stream",
     "text": [
      "\n",
      "Copying (1500) of .. val/Square\n",
      "\n"
     ]
    },
    {
     "data": {
      "application/vnd.jupyter.widget-view+json": {
       "model_id": "d71d48ee46e34685a0ae7acd10356a35",
       "version_major": 2,
       "version_minor": 0
      },
      "text/plain": [
       "  0%|          | 0/1500 [00:00<?, ?it/s]"
      ]
     },
     "metadata": {},
     "output_type": "display_data"
    },
    {
     "name": "stdout",
     "output_type": "stream",
     "text": [
      "\n",
      "Copying (1500) of .. test/Square\n",
      "\n"
     ]
    },
    {
     "data": {
      "application/vnd.jupyter.widget-view+json": {
       "model_id": "e6d9b032fe5b4fa28931a0fcebbb6437",
       "version_major": 2,
       "version_minor": 0
      },
      "text/plain": [
       "  0%|          | 0/1500 [00:00<?, ?it/s]"
      ]
     },
     "metadata": {},
     "output_type": "display_data"
    },
    {
     "name": "stdout",
     "output_type": "stream",
     "text": [
      "\n",
      "Copying (7000) of .. train/Triangle\n",
      "\n"
     ]
    },
    {
     "data": {
      "application/vnd.jupyter.widget-view+json": {
       "model_id": "3525a631951e43e0a6a61b99199b3422",
       "version_major": 2,
       "version_minor": 0
      },
      "text/plain": [
       "  0%|          | 0/7000 [00:00<?, ?it/s]"
      ]
     },
     "metadata": {},
     "output_type": "display_data"
    },
    {
     "name": "stdout",
     "output_type": "stream",
     "text": [
      "\n",
      "Copying (1500) of .. val/Triangle\n",
      "\n"
     ]
    },
    {
     "data": {
      "application/vnd.jupyter.widget-view+json": {
       "model_id": "6d31e70cea49429c83cef799436af5af",
       "version_major": 2,
       "version_minor": 0
      },
      "text/plain": [
       "  0%|          | 0/1500 [00:00<?, ?it/s]"
      ]
     },
     "metadata": {},
     "output_type": "display_data"
    },
    {
     "name": "stdout",
     "output_type": "stream",
     "text": [
      "\n",
      "Copying (1500) of .. test/Triangle\n",
      "\n"
     ]
    },
    {
     "data": {
      "application/vnd.jupyter.widget-view+json": {
       "model_id": "316286e3946e4152ba9524eb1017ea29",
       "version_major": 2,
       "version_minor": 0
      },
      "text/plain": [
       "  0%|          | 0/1500 [00:00<?, ?it/s]"
      ]
     },
     "metadata": {},
     "output_type": "display_data"
    }
   ],
   "source": [
    "root_path = 'C:/Users/Hasan/Desktop/Classification/geometric shapes dataset'\n",
    "root_path = pathlib.Path(root_path)\n",
    "#split train_test_validation set\n",
    "split_folder.ratio(input=root_path , output='split_image', seed = 42, ratio=(0.7,0.15,0.15))"
   ]
  },
  {
   "cell_type": "markdown",
   "id": "38fb878f",
   "metadata": {},
   "source": [
    "### Loading images into train_set"
   ]
  },
  {
   "cell_type": "code",
   "execution_count": 21,
   "id": "52df4a50",
   "metadata": {},
   "outputs": [
    {
     "name": "stdout",
     "output_type": "stream",
     "text": [
      "Found 21000 files belonging to 3 classes.\n"
     ]
    }
   ],
   "source": [
    "train_data = keras.utils.image_dataset_from_directory(directory='C:/Users/Hasan/Image Classification/split_image/train',\n",
    "                                                      labels='inferred',label_mode='int',color_mode='rgb',\n",
    "                                                      batch_size=2, image_size=(64,64), shuffle=True)\n"
   ]
  },
  {
   "cell_type": "markdown",
   "id": "6155f724",
   "metadata": {},
   "source": [
    "### Loading images into validation_set"
   ]
  },
  {
   "cell_type": "code",
   "execution_count": 22,
   "id": "8b834b9b",
   "metadata": {},
   "outputs": [
    {
     "name": "stdout",
     "output_type": "stream",
     "text": [
      "Found 4500 files belonging to 3 classes.\n"
     ]
    }
   ],
   "source": [
    "validation_data = keras.utils.image_dataset_from_directory(directory='C:/Users/Hasan/Image Classification/split_image/val',\n",
    "                                                           labels='inferred', label_mode='int',\n",
    "                                                           color_mode='rgb',batch_size=2,\n",
    "                                                           shuffle=True,image_size=(64,64))\n"
   ]
  },
  {
   "cell_type": "markdown",
   "id": "3fbdd623",
   "metadata": {},
   "source": [
    "### Loading images into test_set"
   ]
  },
  {
   "cell_type": "code",
   "execution_count": 23,
   "id": "65a79755",
   "metadata": {},
   "outputs": [
    {
     "name": "stdout",
     "output_type": "stream",
     "text": [
      "Found 4500 files belonging to 3 classes.\n"
     ]
    }
   ],
   "source": [
    "test_data = keras.utils.image_dataset_from_directory(directory='C:/Users/Hasan/Image Classification/split_image/test',\n",
    "                                                     labels='inferred', label_mode='int',color_mode='rgb',\n",
    "                                                     batch_size=2, image_size=(64,64),shuffle=True)\n"
   ]
  },
  {
   "cell_type": "markdown",
   "id": "6bba8399",
   "metadata": {},
   "source": [
    "### Data normalization\n"
   ]
  },
  {
   "cell_type": "code",
   "execution_count": 24,
   "id": "2f967708",
   "metadata": {},
   "outputs": [],
   "source": [
    "def Normalization(image, label):\n",
    "    image = tensorflow.cast(image/64, dtype='float32')\n",
    "    return image, label\n",
    "\n",
    "train_data = train_data.map(Normalization)\n",
    "validation_data = validation_data.map(Normalization)\n",
    "test_data = test_data.map(Normalization)"
   ]
  },
  {
   "cell_type": "markdown",
   "id": "8db54642",
   "metadata": {},
   "source": [
    "## Model Building"
   ]
  },
  {
   "cell_type": "code",
   "execution_count": null,
   "id": "125bc7eb",
   "metadata": {},
   "outputs": [],
   "source": [
    "\"initial_learning_rate\": specifies the initial learning rate. \n",
    "Exponential decay is a technique that reduces the learning rate over time. \n",
    "\"decay_steps\": specifies the number of steps after which the learning rate will be decayed. \n",
    "\"decay_rate\": specifies the rate at which the learning rate will be decayed.\n",
    "This prevent the model from overfitting and improve the performance of the model."
   ]
  },
  {
   "cell_type": "code",
   "execution_count": null,
   "id": "50b7560e",
   "metadata": {},
   "outputs": [],
   "source": [
    "This model consists of a sequence of layers (architecture), \n",
    "\"convolutional layers\": extract features from the images. \n",
    "\"pooling layers\": reduce the size of the feature maps.\n",
    "\"fully connected layers\":The fully connected layers learn a complex relationship between the features and the output classes \n",
    "\"dropout layer\": The dropout layer is used to prevent overfitting."
   ]
  },
  {
   "cell_type": "code",
   "execution_count": null,
   "id": "295cf21e",
   "metadata": {},
   "outputs": [],
   "source": [
    "This code compiles the model with the custom learning rate scheduler and the desired loss function and metrics. \n",
    "The loss function is used to measure the error of the model and the metrics are used to evaluate the performance of the model.\n"
   ]
  },
  {
   "cell_type": "code",
   "execution_count": 30,
   "id": "c3b0a1af",
   "metadata": {
    "scrolled": false
   },
   "outputs": [
    {
     "name": "stdout",
     "output_type": "stream",
     "text": [
      "Model: \"sequential_9\"\n",
      "_________________________________________________________________\n",
      " Layer (type)                Output Shape              Param #   \n",
      "=================================================================\n",
      " conv2d_19 (Conv2D)          (None, 62, 62, 32)        896       \n",
      "                                                                 \n",
      " max_pooling2d_19 (MaxPooli  (None, 31, 31, 32)        0         \n",
      " ng2D)                                                           \n",
      "                                                                 \n",
      " conv2d_20 (Conv2D)          (None, 29, 29, 64)        18496     \n",
      "                                                                 \n",
      " max_pooling2d_20 (MaxPooli  (None, 14, 14, 64)        0         \n",
      " ng2D)                                                           \n",
      "                                                                 \n",
      " conv2d_21 (Conv2D)          (None, 12, 12, 128)       73856     \n",
      "                                                                 \n",
      " max_pooling2d_21 (MaxPooli  (None, 6, 6, 128)         0         \n",
      " ng2D)                                                           \n",
      "                                                                 \n",
      " flatten_9 (Flatten)         (None, 4608)              0         \n",
      "                                                                 \n",
      " dense_18 (Dense)            (None, 128)               589952    \n",
      "                                                                 \n",
      " dropout_1 (Dropout)         (None, 128)               0         \n",
      "                                                                 \n",
      " dense_19 (Dense)            (None, 3)                 387       \n",
      "                                                                 \n",
      "=================================================================\n",
      "Total params: 683587 (2.61 MB)\n",
      "Trainable params: 683587 (2.61 MB)\n",
      "Non-trainable params: 0 (0.00 Byte)\n",
      "_________________________________________________________________\n",
      "Epoch 1/10\n",
      "10500/10500 [==============================] - 149s 14ms/step - loss: 0.9023 - accuracy: 0.5444 - val_loss: 0.7186 - val_accuracy: 0.6813\n",
      "Epoch 2/10\n",
      "10500/10500 [==============================] - 149s 14ms/step - loss: 0.5871 - accuracy: 0.7337 - val_loss: 0.4281 - val_accuracy: 0.8320\n",
      "Epoch 3/10\n",
      "10500/10500 [==============================] - 153s 15ms/step - loss: 0.3900 - accuracy: 0.8365 - val_loss: 0.2949 - val_accuracy: 0.8838\n",
      "Epoch 4/10\n",
      "10500/10500 [==============================] - 155s 15ms/step - loss: 0.2716 - accuracy: 0.8894 - val_loss: 0.1947 - val_accuracy: 0.9316\n",
      "Epoch 5/10\n",
      "10500/10500 [==============================] - 153s 15ms/step - loss: 0.1915 - accuracy: 0.9241 - val_loss: 0.1449 - val_accuracy: 0.9476\n",
      "Epoch 6/10\n",
      "10500/10500 [==============================] - 159s 15ms/step - loss: 0.1419 - accuracy: 0.9468 - val_loss: 0.1096 - val_accuracy: 0.9620\n",
      "Epoch 7/10\n",
      "10500/10500 [==============================] - 162s 15ms/step - loss: 0.1039 - accuracy: 0.9634 - val_loss: 0.0822 - val_accuracy: 0.9718\n",
      "Epoch 8/10\n",
      "10500/10500 [==============================] - 152s 14ms/step - loss: 0.0815 - accuracy: 0.9720 - val_loss: 0.0803 - val_accuracy: 0.9704\n",
      "Epoch 9/10\n",
      "10500/10500 [==============================] - 155s 15ms/step - loss: 0.0687 - accuracy: 0.9776 - val_loss: 0.0646 - val_accuracy: 0.9769\n",
      "Epoch 10/10\n",
      "10500/10500 [==============================] - 153s 15ms/step - loss: 0.0544 - accuracy: 0.9833 - val_loss: 0.0501 - val_accuracy: 0.9811\n"
     ]
    }
   ],
   "source": [
    "import tensorflow as tf\n",
    "from tensorflow import keras\n",
    "from tensorflow.keras import layers\n",
    "from tensorflow.keras.optimizers import Adam\n",
    "from tensorflow.keras.optimizers.schedules import ExponentialDecay\n",
    "\n",
    "# Define the learning rate scheduler\n",
    "initial_learning_rate = 0.0001\n",
    "lr_schedule = ExponentialDecay(\n",
    "    initial_learning_rate, decay_steps=10000, decay_rate=0.9\n",
    ")\n",
    "\n",
    "# Define the model architecture\n",
    "model = keras.Sequential([\n",
    "    # Input layer\n",
    "    keras.Input(shape=(64,64, 3)),\n",
    "    \n",
    "    # Convolutional layers\n",
    "    layers.Conv2D(32, kernel_size=(3, 3), activation='relu'),\n",
    "    layers.MaxPooling2D(pool_size=(2, 2)),\n",
    "    \n",
    "    layers.Conv2D(64, kernel_size=(3, 3), activation='relu'),\n",
    "    layers.MaxPooling2D(pool_size=(2, 2)),\n",
    "    \n",
    "    layers.Conv2D(128, kernel_size=(3, 3), activation='relu'),\n",
    "    layers.MaxPooling2D(pool_size=(2, 2)),\n",
    "    \n",
    "    # Flatten the output from the previous layer\n",
    "    layers.Flatten(),\n",
    "    \n",
    "    # Fully connected layers\n",
    "    layers.Dense(128, activation='relu'),\n",
    "    layers.Dropout(0.5),  # Dropout for regularization\n",
    "    \n",
    "    # Output layer with softmax activation (3 classes)\n",
    "    layers.Dense(3, activation='softmax')\n",
    "])\n",
    "\n",
    "# Compile the model with the custom learning rate\n",
    "model.compile(\n",
    "    optimizer=Adam(learning_rate=lr_schedule),\n",
    "    loss='sparse_categorical_crossentropy',\n",
    "    metrics=['accuracy']\n",
    ")\n",
    "\n",
    "# Print the model summary\n",
    "model.summary()\n",
    "\n",
    "# Train the model\n",
    "history = model.fit(\n",
    "    train_data,\n",
    "    validation_data=validation_data,\n",
    "    epochs=10  # You can adjust the number of epochs\n",
    ")\n"
   ]
  },
  {
   "cell_type": "markdown",
   "id": "364fab37",
   "metadata": {},
   "source": [
    "### Evaluating model on Test Data"
   ]
  },
  {
   "cell_type": "code",
   "execution_count": 35,
   "id": "78b37adb",
   "metadata": {},
   "outputs": [
    {
     "name": "stdout",
     "output_type": "stream",
     "text": [
      "2250/2250 [==============================] - 15s 7ms/step - loss: 0.0589 - accuracy: 0.9773\n",
      "Test accuracy: 97.73%\n",
      "2250/2250 [==============================] - 13s 6ms/step\n"
     ]
    }
   ],
   "source": [
    "import matplotlib.pyplot as plt\n",
    "from sklearn.metrics import classification_report, confusion_matrix\n",
    "import numpy as np\n",
    "\n",
    "# Evaluate the model on the test data\n",
    "test_loss, test_accuracy = model.evaluate(test_data)\n",
    "print(f\"Test accuracy: {test_accuracy * 100:.2f}%\")\n",
    "\n",
    "# Predict the labels on the test data\n",
    "predictions = model.predict(test_data)\n",
    "predicted_labels = np.argmax(predictions, axis=1)\n",
    "\n",
    "# True labels of the test data\n",
    "true_labels = np.concatenate([y for x, y in test_data], axis=0)\n"
   ]
  },
  {
   "cell_type": "markdown",
   "id": "c93129aa",
   "metadata": {},
   "source": [
    "### Classification Report"
   ]
  },
  {
   "cell_type": "code",
   "execution_count": 34,
   "id": "a2f91599",
   "metadata": {
    "scrolled": true
   },
   "outputs": [
    {
     "name": "stdout",
     "output_type": "stream",
     "text": [
      "Classification Report:\n",
      "              precision    recall  f1-score   support\n",
      "\n",
      "      Circle       0.37      0.37      0.37      1500\n",
      "    Triangle       0.36      0.36      0.36      1500\n",
      "      Square       0.37      0.37      0.37      1500\n",
      "\n",
      "    accuracy                           0.37      4500\n",
      "   macro avg       0.37      0.37      0.37      4500\n",
      "weighted avg       0.37      0.37      0.37      4500\n",
      "\n",
      "Confusion Matrix:\n",
      "[[549 490 461]\n",
      " [470 546 484]\n",
      " [457 486 557]]\n"
     ]
    }
   ],
   "source": [
    "# Calculate the F1 score, precision, recall, and confusion matrix\n",
    "classification_rep = classification_report(true_labels, predicted_labels, target_names=[\"Circle\", \"Triangle\", \"Square\"])\n",
    "confusion_mat = confusion_matrix(true_labels, predicted_labels)\n",
    "\n",
    "print(\"Classification Report:\")\n",
    "print(classification_rep)\n",
    "print(\"Confusion Matrix:\")\n",
    "print(confusion_mat)"
   ]
  },
  {
   "cell_type": "markdown",
   "id": "4101bb98",
   "metadata": {},
   "source": [
    "#### training and validation \"accuracy\" over epochs  and  training and validation \"loss\" over epochs"
   ]
  },
  {
   "cell_type": "code",
   "execution_count": 33,
   "id": "0de7221d",
   "metadata": {
    "scrolled": false
   },
   "outputs": [
    {
     "data": {
      "image/png": "[encoded data removed]",
      "text/plain": [
       "<Figure size 640x480 with 1 Axes>"
      ]
     },
     "metadata": {},
     "output_type": "display_data"
    },
    {
     "data": {
      "image/png": "[encoded data removed]",
      "text/plain": [
       "<Figure size 640x480 with 1 Axes>"
      ]
     },
     "metadata": {},
     "output_type": "display_data"
    }
   ],
   "source": [
    "# Plot training and validation accuracy over epochs\n",
    "plt.plot(history.history['accuracy'], label='Training Accuracy')\n",
    "plt.plot(history.history['val_accuracy'], label='Validation Accuracy')\n",
    "plt.xlabel('Epoch')\n",
    "plt.ylabel('Accuracy')\n",
    "plt.legend(loc='lower right')\n",
    "plt.title('Training and Validation Accuracy')\n",
    "plt.show()\n",
    "\n",
    "# Plot training and validation loss over epochs\n",
    "plt.plot(history.history['loss'], label='Training Loss')\n",
    "plt.plot(history.history['val_loss'], label='Validation Loss')\n",
    "plt.xlabel('Epoch')\n",
    "plt.ylabel('Loss')\n",
    "plt.legend(loc='upper right')\n",
    "plt.title('Training and Validation Loss')\n",
    "plt.show()\n"
   ]
  },
  {
   "cell_type": "code",
   "execution_count": 36,
   "id": "b3bd0f4c",
   "metadata": {
    "scrolled": true
   },
   "outputs": [
    {
     "name": "stderr",
     "output_type": "stream",
     "text": [
      "C:\\Users\\Hasan\\AppData\\Roaming\\Python\\Python39\\site-packages\\keras\\src\\engine\\training.py:3079: UserWarning: You are saving your model as an HDF5 file via `model.save()`. This file format is considered legacy. We recommend using instead the native Keras format, e.g. `model.save('my_model.keras')`.\n",
      "  saving_api.save_model(\n"
     ]
    }
   ],
   "source": [
    "# Save the model to an HDF5 file\n",
    "model.save('my_model.h5')"
   ]
  },
  {
   "cell_type": "code",
   "execution_count": 49,
   "id": "88a14c0a",
   "metadata": {},
   "outputs": [],
   "source": []
  },
  {
   "cell_type": "code",
   "execution_count": 80,
   "id": "592fa04b",
   "metadata": {},
   "outputs": [],
   "source": [
    "model.save('my_model.keras')"
   ]
  },
  {
   "cell_type": "code",
   "execution_count": 3,
   "id": "f67444e8",
   "metadata": {},
   "outputs": [
    {
     "name": "stdout",
     "output_type": "stream",
     "text": [
      "1/1 [==============================] - 0s 232ms/step\n",
      "Predicted class: Circle\n"
     ]
    }
   ],
   "source": [
    "import tensorflow as tf\n",
    "from tensorflow.keras.models import load_model\n",
    "from tensorflow.keras.preprocessing import image\n",
    "import numpy as np\n",
    "\n",
    "# Load the saved model (M1.h5)\n",
    "model = load_model('my_model.h5')\n",
    "\n",
    "# Load the image\n",
    "image_path = 'C:/Users/Hasan/Desktop/Classification/Model/Geometry_dataset/Circle/Circle_00a80338-2a92-11ea-8123-8363a7ec19e6.png'\n",
    "img = image.load_img(image_path, target_size=(64, 64))\n",
    "\n",
    "# Preprocess the image\n",
    "img_array = image.img_to_array(img)\n",
    "img_array = np.expand_dims(img_array, axis=0)  # Add batch dimension\n",
    "img_array /= 64.0  # Normalize the pixel values\n",
    "\n",
    "# Make predictions\n",
    "predictions = model.predict(img_array)\n",
    "\n",
    "# Get the predicted class label\n",
    "predicted_class = np.argmax(predictions, axis=1)\n",
    "\n",
    "# Define a dictionary to map class indices to class labels (modify as per your dataset)\n",
    "class_labels = {\n",
    "    0: 'Circle',\n",
    "    1: 'Triangle',\n",
    "    2: 'Square'\n",
    "}\n",
    "\n",
    "# Get the corresponding class label\n",
    "predicted_label = class_labels[predicted_class[0]]\n",
    "\n",
    "print(f'Predicted class: {predicted_label}')\n"
   ]
  },
  {
   "cell_type": "code",
   "execution_count": null,
   "id": "40d4e3ab",
   "metadata": {},
   "outputs": [],
   "source": []
  }
 ],
 "metadata": {
  "kernelspec": {
   "display_name": "Python 3 (ipykernel)",
   "language": "python",
   "name": "python3"
  },
  "language_info": {
   "codemirror_mode": {
    "name": "ipython",
    "version": 3
   },
   "file_extension": ".py",
   "mimetype": "text/x-python",
   "name": "python",
   "nbconvert_exporter": "python",
   "pygments_lexer": "ipython3",
   "version": "3.9.13"
  }
 },
 "nbformat": 4,
 "nbformat_minor": 5
}
